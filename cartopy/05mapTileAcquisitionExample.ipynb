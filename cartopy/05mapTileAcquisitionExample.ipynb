{
 "cells": [
  {
   "cell_type": "code",
   "execution_count": 1,
   "metadata": {
    "collapsed": false
   },
   "outputs": [
    {
     "data": {
      "text/plain": [
       "Figure(PyObject <Figure size 640x480 with 1 Axes>)"
      ]
     },
     "metadata": {},
     "output_type": "display_data"
    },
    {
     "data": {
      "text/plain": [
       "PyObject Text(-19.613333, 63.62, 'Eyjafjallajökull')"
      ]
     },
     "execution_count": 1,
     "metadata": {},
     "output_type": "execute_result"
    }
   ],
   "source": [
    "# Demonstrates cartopy's ability to draw map tiles which are downloaded on\n",
    "# demand from the MapQuest tile server. Internally these tiles are then combined\n",
    "# into a single image and displayed in the cartopy GeoAxes.\n",
    "\n",
    "using PyCall, PyPlot\n",
    "ccrs = pyimport(\"cartopy.crs\")\n",
    "cimgt = pyimport(\"cartopy.io.img_tiles\")\n",
    "\n",
    "# matplotlib = pyimport(\"matplotlib\")\n",
    "# matplotlib.use(\"tkagg\")\n",
    "# plt = pyimport(\"matplotlib.pyplot\")\n",
    "# transforms = pyimport(\"matplotlib.transforms\")\n",
    "\n",
    "# Target longitude/latitude coordinates (Eyjafjallajökull volcano).\n",
    "coords = [-19.613333, 63.62]\n",
    "\n",
    "# Create a MapQuest open aerial instance.\n",
    "map_quest_aerial = cimgt.MapQuestOpenAerial()\n",
    "\n",
    "# Create a GeoAxes in the tile's projection and limit its extent to a small lat/lon range.\n",
    "ax = subplot(projection=map_quest_aerial.crs)\n",
    "ax.set_extent([-22, -15, 63, 65])\n",
    "\n",
    "# Add the MapQuest data at zoom level 8.\n",
    "ax.add_image(map_quest_aerial, 8)\n",
    "\n",
    "# Add a marker at the target coordinates.\n",
    "plot(coords[1], coords[2], marker=\"o\", color=\"yellow\", markersize=12, \n",
    "     alpha=0.7, transform=ccrs.Geodetic())\n",
    "\n",
    "# Use the cartopy interface to create a matplotlib transform object\n",
    "# for the Geodetic coordinate system. We will use this along with\n",
    "# matplotlib's offset_copy function to define a coordinate system which\n",
    "# translates the text by 25 pixels to the left.\n",
    "geodetic_transform = ccrs.Geodetic()._as_mpl_transform(ax)\n",
    "text_transform = matplotlib.transforms.offset_copy(geodetic_transform, units=\"dots\", x=-25)\n",
    "\n",
    "# Add text 25 pixels to the left of the target.\n",
    "text(coords[1], coords[2], \"Eyjafjallajökull\",\n",
    "     verticalalignment=\"center\", horizontalalignment=\"right\",\n",
    "     transform=text_transform,\n",
    "     bbox=Dict(\"facecolor\"=>\"wheat\", \"alpha\"=>0.5, \"boxstyle\"=>\"round\"))\n",
    "\n",
    "# savefig(\"05mapTileAcquisitionExample2.png\", dpi=300)"
   ]
  },
  {
   "cell_type": "code",
   "execution_count": null,
   "metadata": {
    "collapsed": true
   },
   "outputs": [],
   "source": []
  }
 ],
 "metadata": {
  "anaconda-cloud": {},
  "kernelspec": {
   "display_name": "Julia 1.0.3",
   "language": "julia",
   "name": "julia-1.0"
  },
  "language_info": {
   "file_extension": ".jl",
   "mimetype": "application/julia",
   "name": "julia",
   "version": "1.0.3"
  }
 },
 "nbformat": 4,
 "nbformat_minor": 0
}
