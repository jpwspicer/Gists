{
 "cells": [
  {
   "cell_type": "code",
   "execution_count": 9,
   "metadata": {
    "collapsed": false
   },
   "outputs": [
    {
     "data": {
      "text/plain": [
       "Figure(PyObject <Figure size 640x480 with 1 Axes>)"
      ]
     },
     "metadata": {},
     "output_type": "display_data"
    },
    {
     "data": {
      "text/plain": [
       "PyObject Text(0.5, 1.0, 'Global Map with Points & Lines')"
      ]
     },
     "execution_count": 9,
     "metadata": {},
     "output_type": "execute_result"
    }
   ],
   "source": [
    "using PyPlot, PyCall\n",
    "ccrs = pyimport(\"cartopy.crs\")\n",
    "\n",
    "ax = subplot(projection=ccrs.Robinson())\n",
    "\n",
    "# make the map global rather than have it zoom in to the extents of any plotted data\n",
    "ax.set_global()\n",
    "\n",
    "ax.stock_img()\n",
    "ax.coastlines()\n",
    "\n",
    "scatter(-0.08, 51.53, transform=ccrs.PlateCarree(), zorder=4, s=40, linewidth=1.5, edgecolor=\"k\", color=\"yellow\")\n",
    "scatter(132, 43.17, transform=ccrs.PlateCarree(), zorder=4, s=80, linewidth=2, edgecolor=\"b\", color=\"c\")\n",
    "scatter(-58.3817, -34.6033, transform=ccrs.PlateCarree(), zorder=4, s=60, linewidth=2, edgecolor=\"g\", color=\"orange\")\n",
    "\n",
    "plot([-0.08, 132], [51.53, 43.17], transform=ccrs.PlateCarree(), linewidth=3, \"r\")\n",
    "plot([-58.3817, 132], [-34.6033, 43.17], transform=ccrs.Geodetic(), linewidth=3, \"m\")\n",
    "\n",
    "title(\"Global Map with Points & Lines\")\n",
    "\n",
    "# savefig(\"01globalMap2.png\", dpi=300)"
   ]
  },
  {
   "cell_type": "code",
   "execution_count": null,
   "metadata": {
    "collapsed": true
   },
   "outputs": [],
   "source": []
  }
 ],
 "metadata": {
  "kernelspec": {
   "display_name": "Julia 1.0.3",
   "language": "julia",
   "name": "julia-1.0"
  },
  "language_info": {
   "file_extension": ".jl",
   "mimetype": "application/julia",
   "name": "julia",
   "version": "1.0.3"
  }
 },
 "nbformat": 4,
 "nbformat_minor": 0
}
