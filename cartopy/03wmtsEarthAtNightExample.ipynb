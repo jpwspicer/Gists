{
 "cells": [
  {
   "cell_type": "code",
   "execution_count": null,
   "metadata": {
    "collapsed": false
   },
   "outputs": [],
   "source": [
    "# Interactive WMTS (Web Map Tile Service)\n",
    "# This example demonstrates the interactive pan and zoom capability\n",
    "# supported by an OGC web services Web Map Tile Service (WMTS) aware axes.\n",
    "# The example WMTS layer is a single composite of data sampled over nine days\n",
    "# in April 2012 and thirteen days in October 2012 showing the Earth at night.\n",
    "# It does not vary over time.\n",
    "# The imagery was collected by the Suomi National Polar-orbiting Partnership\n",
    "# (Suomi NPP) weather satellite operated by the United States National Oceanic\n",
    "# and Atmospheric Administration (NOAA).\n",
    "\n",
    "using PyPlot, PyCall\n",
    "ccrs = pyimport(\"cartopy.crs\")\n",
    "\n",
    "url = \"http://map1c.vis.earthdata.nasa.gov/wmts-geo/wmts.cgi\"\n",
    "layer = \"VIIRS_CityLights_2012\"\n",
    "\n",
    "ax = subplot(projection=ccrs.PlateCarree())\n",
    "ax.add_wmts(url, layer)\n",
    "ax.set_extent([-15, 25, 35, 60])\n",
    "\n",
    "title(\"Europe at Night April/October 2012\")"
   ]
  },
  {
   "cell_type": "code",
   "execution_count": null,
   "metadata": {
    "collapsed": false
   },
   "outputs": [],
   "source": []
  }
 ],
 "metadata": {
  "kernelspec": {
   "display_name": "Julia 1.0.3",
   "language": "julia",
   "name": "julia-1.0"
  },
  "language_info": {
   "file_extension": ".jl",
   "mimetype": "application/julia",
   "name": "julia",
   "version": "1.0.3"
  }
 },
 "nbformat": 4,
 "nbformat_minor": 0
}
