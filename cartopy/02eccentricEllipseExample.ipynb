{
 "cells": [
  {
   "cell_type": "code",
   "execution_count": 1,
   "metadata": {
    "collapsed": false
   },
   "outputs": [
    {
     "data": {
      "text/plain": [
       "Figure(PyObject <Figure size 640x480 with 1 Axes>)"
      ]
     },
     "metadata": {},
     "output_type": "display_data"
    },
    {
     "data": {
      "text/plain": [
       "PyObject Text(0.5, 1.0, 'Eccentric Ellipse')"
      ]
     },
     "execution_count": 1,
     "metadata": {},
     "output_type": "execute_result"
    }
   ],
   "source": [
    "# Eccentric Ellipsoids\n",
    "# This example demonstrates how the class:cartopy.crs.Globe can be used\n",
    "# to define a highly eccentric elliptical model of a geoid. This globe\n",
    "# definition is used in defining a Geostationary projection. The projection\n",
    "# is then visualised with a Natural Earth image and coastlines, which have both\n",
    "# been reprojected on the fly.\n",
    "\n",
    "using PyPlot, PyCall\n",
    "ccrs = pyimport(\"cartopy.crs\")\n",
    "\n",
    "eccentric_globe = ccrs.Globe(semimajor_axis=1000, semiminor_axis=500, ellipse=nothing)\n",
    "geostationary = ccrs.Geostationary(globe=eccentric_globe)\n",
    "\n",
    "ax = subplot(projection=geostationary)\n",
    "\n",
    "ax.stock_img()\n",
    "ax.coastlines()\n",
    "\n",
    "title(\"Eccentric Ellipse\")"
   ]
  },
  {
   "cell_type": "code",
   "execution_count": null,
   "metadata": {
    "collapsed": true
   },
   "outputs": [],
   "source": []
  }
 ],
 "metadata": {
  "kernelspec": {
   "display_name": "Julia 1.0.3",
   "language": "julia",
   "name": "julia-1.0"
  },
  "language_info": {
   "file_extension": ".jl",
   "mimetype": "application/julia",
   "name": "julia",
   "version": "1.0.3"
  }
 },
 "nbformat": 4,
 "nbformat_minor": 0
}
