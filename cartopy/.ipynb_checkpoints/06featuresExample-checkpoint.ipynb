{
 "cells": [
  {
   "cell_type": "code",
   "execution_count": 1,
   "metadata": {
    "collapsed": false
   },
   "outputs": [
    {
     "data": {
      "text/plain": [
       "Figure(PyObject <Figure size 640x480 with 1 Axes>)"
      ]
     },
     "metadata": {},
     "output_type": "display_data"
    }
   ],
   "source": [
    "using PyPlot, PyCall\n",
    "ccrs = pyimport(\"cartopy.crs\")\n",
    "cfeat = pyimport(\"cartopy.feature\")\n",
    "\n",
    "ax = subplot(projection=ccrs.PlateCarree())\n",
    "\n",
    "ax.add_feature(cfeat.LAND)\n",
    "ax.add_feature(cfeat.OCEAN)\n",
    "ax.add_feature(cfeat.COASTLINE)\n",
    "ax.add_feature(cfeat.BORDERS, linestyle=\":\")\n",
    "ax.add_feature(cfeat.LAKES, alpha=0.5)\n",
    "ax.add_feature(cfeat.RIVERS)\n",
    "\n",
    "ax.set_extent([-20, 60, -40, 40])"
   ]
  },
  {
   "cell_type": "code",
   "execution_count": null,
   "metadata": {
    "collapsed": true
   },
   "outputs": [],
   "source": []
  }
 ],
 "metadata": {
  "kernelspec": {
   "display_name": "Julia 1.0.3",
   "language": "julia",
   "name": "julia-1.0"
  },
  "language_info": {
   "file_extension": ".jl",
   "mimetype": "application/julia",
   "name": "julia",
   "version": "1.0.3"
  }
 },
 "nbformat": 4,
 "nbformat_minor": 0
}
