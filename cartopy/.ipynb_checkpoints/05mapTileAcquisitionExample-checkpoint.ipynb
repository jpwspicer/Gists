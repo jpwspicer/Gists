{
 "cells": [
  {
   "cell_type": "code",
   "execution_count": 1,
   "metadata": {
    "collapsed": false
   },
   "outputs": [],
   "source": [
    "# Demonstrates cartopy's ability to draw map tiles which are downloaded on\n",
    "# demand from the MapQuest tile server. Internally these tiles are then combined\n",
    "# into a single image and displayed in the cartopy GeoAxes.\n",
    "\n",
    "using PyCall\n",
    "\n",
    "@pyimport cartopy.crs as ccrs\n",
    "@pyimport cartopy.io.img_tiles as cimgt\n",
    "\n",
    "matplotlib = pyimport(\"matplotlib\")\n",
    "matplotlib[:use](\"tkagg\")\n",
    "plt = pyimport(\"matplotlib.pyplot\")\n",
    "transforms = pyimport(\"matplotlib.transforms\")\n",
    "\n",
    "# Target longitude/latitude coordinates (Eyjafjallajökull volcano).\n",
    "coords = [-19.613333, 63.62]\n",
    "\n",
    "# Create a MapQuest open aerial instance.\n",
    "map_quest_aerial = cimgt.MapQuestOpenAerial()\n",
    "\n",
    "# Create a GeoAxes in the tile's projection and limit its extent to a small lat/lon range.\n",
    "ax = plt[:axes](projection=map_quest_aerial[:crs])\n",
    "ax[:set_extent]([-22, -15, 63, 65])\n",
    "\n",
    "# Add the MapQuest data at zoom level 8.\n",
    "ax[:add_image](map_quest_aerial, 8)\n",
    "\n",
    "# Add a marker at the target coordinates.\n",
    "plt[:plot](coords[1], coords[2], marker=\"o\", color=\"yellow\", markersize=12, \n",
    "         alpha=0.7, transform=ccrs.Geodetic())\n",
    "\n",
    "# Use the cartopy interface to create a matplotlib transform object\n",
    "# for the Geodetic coordinate system. We will use this along with\n",
    "# matplotlib's offset_copy function to define a coordinate system which\n",
    "# translates the text by 25 pixels to the left.\n",
    "geodetic_transform = ccrs.Geodetic()[:_as_mpl_transform](ax)\n",
    "text_transform = transforms[:offset_copy](geodetic_transform, units=\"dots\", x=-25)\n",
    "\n",
    "# Add text 25 pixels to the left of the target.\n",
    "plt[:text](coords[1], coords[2], \"Eyjafjallajökull\",\n",
    "           verticalalignment=\"center\", horizontalalignment=\"right\",\n",
    "           transform=text_transform,\n",
    "           bbox=Dict(\"facecolor\"=>\"wheat\", \"alpha\"=>0.5, \"boxstyle\"=>\"round\"))"
   ]
  }
 ],
 "metadata": {
  "kernelspec": {
   "display_name": "Julia 0.4.1",
   "language": "julia",
   "name": "julia-0.4"
  },
  "language_info": {
   "file_extension": ".jl",
   "mimetype": "application/julia",
   "name": "julia",
   "version": "0.4.1"
  }
 },
 "nbformat": 4,
 "nbformat_minor": 0
}
